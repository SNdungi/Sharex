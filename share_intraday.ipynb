{
 "cells": [
  {
   "cell_type": "code",
   "execution_count": 1,
   "metadata": {},
   "outputs": [],
   "source": [
    "from bs4 import BeautifulSoup as bs\n",
    "import requests\n",
    "import pandas as pd\n",
    "from datetime import datetime as dt\n",
    "from lxml import etree, html\n",
    "from investment import Investment as inv"
   ]
  },
  {
   "cell_type": "code",
   "execution_count": 2,
   "metadata": {},
   "outputs": [],
   "source": [
    "response= requests.get(\"https://afx.kwayisi.org/nse/\")\n",
    "web_page=response.text\n",
    "tree=html.fromstring(html=web_page)\n",
    "soup=bs(web_page, \"html.parser\")"
   ]
  },
  {
   "cell_type": "code",
   "execution_count": 3,
   "metadata": {},
   "outputs": [],
   "source": [
    "table=soup.find_all(name=\"div\", class_=\"t\")"
   ]
  },
  {
   "cell_type": "code",
   "execution_count": 4,
   "metadata": {},
   "outputs": [],
   "source": [
    "co_data=tree.xpath(\"//tbody/tr/td[4]\")\n",
    "share_price=[p.text for p in co_data ]\n",
    "nse_list=[]\n",
    "nse_url=[]\n",
    "for tb in table:\n",
    "  company_name=tb.find_all(name=\"a\")\n",
    "  company_price=tb.find_all(\"td\")\n",
    "  \n",
    "  for c in company_name:\n",
    "    company_list=c.getText()\n",
    "    company_info=c.get(\"href\")\n",
    "    nse_list.append(company_list)\n",
    "    nse_url.append(company_info)"
   ]
  },
  {
   "cell_type": "code",
   "execution_count": 5,
   "metadata": {},
   "outputs": [],
   "source": [
    "nse_codes=[nse_list[i] for i in range(0,len(nse_list),2)]\n",
    "nse_companies=[nse_list[i] for i in range(1,len(nse_list),2)]\n",
    "nse_sites=[nse_url[i] for i in range(0,len(nse_url),2)]"
   ]
  },
  {
   "cell_type": "code",
   "execution_count": 6,
   "metadata": {},
   "outputs": [],
   "source": [
    "date=dt.today().date().strftime(\"%d/%m/%Y\")\n",
    "time=dt.now().time().strftime('%H')\n",
    "date_doc=dt.today().date().strftime(\"%d%m%Y\")"
   ]
  },
  {
   "cell_type": "code",
   "execution_count": 7,
   "metadata": {},
   "outputs": [],
   "source": [
    "df = pd.DataFrame(list(zip(nse_codes,nse_companies,share_price)), columns=[\"ID\", \"NAME\",f\"PRICE-{date}\"])"
   ]
  },
  {
   "cell_type": "code",
   "execution_count": 8,
   "metadata": {},
   "outputs": [
    {
     "name": "stdout",
     "output_type": "stream",
     "text": [
      "11\n"
     ]
    }
   ],
   "source": [
    "print(time)"
   ]
  },
  {
   "cell_type": "code",
   "execution_count": 10,
   "metadata": {},
   "outputs": [],
   "source": [
    "def simulate_shares(time):\n",
    "    try:\n",
    "        if int(time)<9:\n",
    "            return df.to_csv(f\"shares_{date_doc}.csv\")\n",
    "            print(\"entered:first-try\")\n",
    "        else:\n",
    "            data = pd.read_csv(f\"shares_{date_doc}.csv\")\n",
    "            df_intra = pd.DataFrame(data)\n",
    "            df_intra[f'INTRA{time}'] = df[f'PRICE-{date}']\n",
    "            return df_intra.to_csv(f\"shares_{date_doc}.csv\", index=False)\n",
    "            print(\"entered:try-else\")\n",
    "\n",
    "    except FileNotFoundError as fe:\n",
    "        df_intra = df\n",
    "        return df_intra.to_csv(f\"shares_{date_doc}.csv\", index=False)\n",
    "        print(\"Share tracking started past 0900hrs at T=  +{time}\", fe)\n",
    "    \n",
    "    except Exception as e:  \n",
    "        print(\"Share source my be offline, check network\",e)"
   ]
  },
  {
   "cell_type": "code",
   "execution_count": 11,
   "metadata": {},
   "outputs": [],
   "source": [
    "for time in range(8,17):\n",
    "    simulate_shares(time)"
   ]
  },
  {
   "cell_type": "code",
   "execution_count": 12,
   "metadata": {},
   "outputs": [],
   "source": [
    "focused_shares=[]"
   ]
  },
  {
   "cell_type": "code",
   "execution_count": 13,
   "metadata": {},
   "outputs": [],
   "source": [
    "\n",
    "# email=\"ndungilearn@gmail.com\"\n",
    "# pword=\"betzpycymmvnvldb\"\n",
    "# from email.message import EmailMessage\n",
    "\n",
    "# if abs(stock_change)>5:\n",
    "#   msg=EmailMessage()\n",
    "  \n",
    "#   msg[\"Subject\"]= \"table shares\"\n",
    "#   msg[\"From\"]= email\n",
    "#   msg[\"To\"]= email\n",
    "#   msg.set_content(f\"{date_doc} TSLA: {stock_change}\\n Title {news_bank[0][0]}\\n Brief: {news_bank[0][1]}\",charset='utf-8')\n",
    "  \n",
    "#   with smtplib.SMTP(\"smtp.gmail.com\")as connection:\n",
    "#       connection.starttls()     \n",
    "#       connection.login(email,pword)\n",
    "#       connection.send_message(msg)"
   ]
  }
 ],
 "metadata": {
  "kernelspec": {
   "display_name": "env",
   "language": "python",
   "name": "python3"
  },
  "language_info": {
   "codemirror_mode": {
    "name": "ipython",
    "version": 3
   },
   "file_extension": ".py",
   "mimetype": "text/x-python",
   "name": "python",
   "nbconvert_exporter": "python",
   "pygments_lexer": "ipython3",
   "version": "3.11.4"
  },
  "orig_nbformat": 4
 },
 "nbformat": 4,
 "nbformat_minor": 2
}
